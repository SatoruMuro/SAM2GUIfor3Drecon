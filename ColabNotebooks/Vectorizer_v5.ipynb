{
  "nbformat": 4,
  "nbformat_minor": 0,
  "metadata": {
    "colab": {
      "provenance": [],
      "gpuType": "T4"
    },
    "kernelspec": {
      "name": "python3",
      "display_name": "Python 3"
    },
    "language_info": {
      "name": "python"
    },
    "accelerator": "GPU"
  },
  "cells": [
    {
      "cell_type": "markdown",
      "source": [
        "# 【使い方】\n",
        "\n",
        "ランタイム>すべてのセルを実行（**Ctrl+F9**）によりすべてのセルを実行し、セル[2]の最後に生成された**「ファイルを選択」ボタン**から、マスク画像をアップロードしてください。ベクター変換が行われ、最後にベクター変換後のマスク画像がzipでまとめてダウンロードされます。\n",
        "\n",
        "※ベクター変換を行う画像の枚数に応じて所要時間が異なります。\n",
        "\n",
        "※変換に失敗する画像が含まれることがあります。変換に失敗したら、その画像だけ再度トライしてください。\n",
        "\n",
        "\n",
        "\n",
        "\n",
        "# [How to use]\n",
        "\n",
        "Run all cells by selecting Runtime > Run all cells (**Ctrl+F9**), and from the **\"Select File\" button** generated at the end of Cell [2], upload the mask images. The vector conversion will be performed, and at the end, the mask images after vector conversion will be compiled into a zip file for download.\n",
        "\n",
        "Note: The required time varies depending on the number of images to be vectorized.\n",
        "\n",
        "Note: Some images may fail to convert. If an image fails to convert, please try that image again."
      ],
      "metadata": {
        "id": "5i-QjEZnRYKq"
      }
    },
    {
      "cell_type": "code",
      "source": [
        "!pip install -q selenium"
      ],
      "metadata": {
        "id": "bLp9F-U66zT_"
      },
      "execution_count": null,
      "outputs": []
    },
    {
      "cell_type": "code",
      "source": [
        "import os\n",
        "import zipfile\n",
        "import shutil\n",
        "from google.colab import files\n",
        "import requests\n",
        "from selenium.webdriver.common.by import By\n",
        "from selenium.webdriver.support.ui import WebDriverWait\n",
        "from selenium.webdriver.support import expected_conditions as EC\n",
        "from selenium import webdriver\n",
        "uploaded_files = files.upload()\n",
        "options = webdriver.ChromeOptions()\n",
        "options.add_argument('--headless')\n",
        "options.add_argument('--no-sandbox')\n",
        "options.add_argument('--disable-dev-shm-usage')\n",
        "driver = webdriver.Chrome(options=options)\n",
        "temp_folder = 'temp_folder'\n",
        "os.makedirs(temp_folder, exist_ok=True)"
      ],
      "metadata": {
        "id": "QVcIMgYSM1cx"
      },
      "execution_count": null,
      "outputs": []
    },
    {
      "cell_type": "code",
      "source": [
        "from selenium.webdriver.support.ui import WebDriverWait\n",
        "from selenium.webdriver.support import expected_conditions as EC\n",
        "from selenium.webdriver.common.by import By\n",
        "import os\n",
        "import zipfile\n",
        "import requests\n",
        "import shutil\n",
        "import time\n",
        "from selenium.common.exceptions import TimeoutException\n",
        "\n",
        "webpage_url = \"https://www.autotracer.org/\"\n",
        "\n",
        "if not os.path.exists(temp_folder):\n",
        "    os.makedirs(temp_folder)\n",
        "\n",
        "for filename in uploaded_files.keys():\n",
        "    driver.get(webpage_url)\n",
        "\n",
        "    WebDriverWait(driver, 60).until(EC.presence_of_element_located((By.ID, 'fileupfield')))\n",
        "\n",
        "    file_path = os.path.abspath(filename)\n",
        "    file_input = driver.find_element(By.ID, 'fileupfield')\n",
        "    file_input.send_keys(file_path)\n",
        "    start_button = driver.find_element(By.ID, 'fbut')\n",
        "    start_button.click()\n",
        "\n",
        "    try:\n",
        "        WebDriverWait(driver, 60).until(EC.presence_of_element_located((By.XPATH, \"//a[contains(@href,'.svg')]\")))\n",
        "    except TimeoutException:\n",
        "        print(\"The waiting for the element timed out.\")\n",
        "        continue\n",
        "\n",
        "    svg_download_link = None\n",
        "    try:\n",
        "        svg_download_link = driver.find_element(By.XPATH, \"//a[contains(@href,'.svg')]\").get_attribute(\"href\")\n",
        "    except:\n",
        "        pass\n",
        "    if svg_download_link:\n",
        "        downloaded_svg_filename = filename.split('.')[0] + '.svg'\n",
        "        with open(os.path.join(temp_folder, downloaded_svg_filename), 'wb') as f:\n",
        "            f.write(requests.get(svg_download_link).content)\n",
        "\n",
        "        print(f\"{downloaded_svg_filename} has been successfully downloaded.\")\n",
        "    else:\n",
        "        print(f\"The conversion of {filename} failed.\")\n",
        "\n",
        "    time.sleep(5)\n",
        "\n",
        "\n"
      ],
      "metadata": {
        "id": "UG1905QR1TKU"
      },
      "execution_count": null,
      "outputs": []
    },
    {
      "cell_type": "code",
      "source": [
        "zip_filename = 'masksvg.zip'\n",
        "with zipfile.ZipFile(zip_filename, 'w') as zipf:\n",
        "    for root, dirs, files_list in os.walk(temp_folder):\n",
        "        for file in files_list:\n",
        "            zipf.write(os.path.join(root, file), file)"
      ],
      "metadata": {
        "id": "PUd6dxh01wwx"
      },
      "execution_count": null,
      "outputs": []
    },
    {
      "cell_type": "code",
      "source": [
        "# 必要なライブラリをインポート\n",
        "import shutil\n",
        "from google.colab import files\n",
        "\n",
        "# 圧縮するディレクトリのパス\n",
        "dir_to_zip = '/content/temp_folder'\n",
        "output_filename = '/content/temp_folder.zip'\n",
        "\n",
        "# ディレクトリを圧縮\n",
        "shutil.make_archive(output_filename.replace('.zip', ''), 'zip', dir_to_zip)\n",
        "\n",
        "# 圧縮したZIPファイルをダウンロード\n",
        "files.download(output_filename)\n"
      ],
      "metadata": {
        "id": "Pjq0MTCSAGKZ"
      },
      "execution_count": null,
      "outputs": []
    },
    {
      "cell_type": "markdown",
      "source": [
        "\n",
        "This notebook utilizes Autotracer.org (https://www.autotracer.org/) to batch convert multiple image files into vectorized SVG files and saves them."
      ],
      "metadata": {
        "id": "-AI-hzvLOzKe"
      }
    },
    {
      "cell_type": "markdown",
      "source": [
        "Copyright (c) 2024 Satoru Muro. All rights reserved.\n",
        "Redistribution and use in source and binary forms, with or without modification, are permitted provided that the following conditions are met:\n",
        "1. Redistributions of source code must retain the above copyright notice, this list of conditions and the following disclaimer.\n",
        "2. Redistributions in binary form must reproduce the above copyright notice, this list of conditions and the following disclaimer in the documentation and/or other materials provided with the distribution.\n",
        "\n",
        "THIS SOFTWARE IS PROVIDED BY THE COPYRIGHT HOLDERS AND CONTRIBUTORS \"AS IS\" AND ANY EXPRESS OR IMPLIED WARRANTIES, INCLUDING, BUT NOT LIMITED TO, THE IMPLIED WARRANTIES OF MERCHANTABILITY AND FITNESS FOR A PARTICULAR PURPOSE ARE DISCLAIMED. IN NO EVENT SHALL THE COPYRIGHT HOLDER OR CONTRIBUTORS BE LIABLE FOR ANY DIRECT, INDIRECT, INCIDENTAL, SPECIAL, EXEMPLARY, OR CONSEQUENTIAL DAMAGES (INCLUDING, BUT NOT LIMITED TO, PROCUREMENT OF SUBSTITUTE GOODS OR SERVICES; LOSS OF USE, DATA, OR PROFITS; OR BUSINESS INTERRUPTION) HOWEVER CAUSED AND ON ANY THEORY OF LIABILITY, WHETHER IN CONTRACT, STRICT LIABILITY, OR TORT (INCLUDING NEGLIGENCE OR OTHERWISE) ARISING IN ANY WAY OUT OF THE USE OF THIS SOFTWARE, EVEN IF ADVISED OF THE POSSIBILITY OF SUCH DAMAGE.\n"
      ],
      "metadata": {
        "id": "nXgBzyVhN19x"
      }
    }
  ]
}